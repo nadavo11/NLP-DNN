{
  "nbformat": 4,
  "nbformat_minor": 0,
  "metadata": {
    "colab": {
      "provenance": [],
      "toc_visible": true,
      "include_colab_link": true
    },
    "language_info": {
      "name": "python"
    },
    "kernelspec": {
      "name": "python3",
      "display_name": "Python 3"
    }
  },
  "cells": [
    {
      "cell_type": "markdown",
      "metadata": {
        "id": "view-in-github",
        "colab_type": "text"
      },
      "source": [
        "<a href=\"https://colab.research.google.com/github/nadavo11/NLP-DNN/blob/main/NLP_DNN_notebook_(4).ipynb\" target=\"_parent\"><img src=\"https://colab.research.google.com/assets/colab-badge.svg\" alt=\"Open In Colab\"/></a>"
      ]
    },
    {
      "cell_type": "markdown",
      "metadata": {
        "id": "Cx3i2Op-6X5n"
      },
      "source": [
        "# Assignment 2: Word Prediction\n",
        "\n",
        "**Deadline**: Sunday, December 11th, by 8pm.\n",
        "\n",
        "**Submission**: Submit a PDF export of the completed notebook as well as the ipynb file. \n",
        "\n",
        " \n",
        "\n",
        "In this assignment, we will make a neural network that can predict the next word\n",
        "in a sentence given the previous three.  \n",
        "In doing this prediction task, our neural networks will learn about *words* and about\n",
        "how to represent words. We'll explore the *vector representations* of words that our\n",
        "model produces, and analyze these representations.\n",
        "\n",
        "You may modify the starter code as you see fit, including changing the signatures of functions and adding/removing helper functions. However, please make sure that you properly explain what you are doing and why."
      ]
    },
    {
      "cell_type": "code",
      "metadata": {
        "id": "2zdEvcdO6X5s"
      },
      "source": [
        "import pandas\n",
        "import numpy as np\n",
        "import matplotlib.pyplot as plt\n",
        "import collections\n",
        "\n",
        "import torch\n",
        "import torch.nn as nn\n",
        "import torch.optim as optim"
      ],
      "execution_count": null,
      "outputs": []
    },
    {
      "cell_type": "markdown",
      "metadata": {
        "id": "sQYtUQTH6X5t"
      },
      "source": [
        "## Question 1. Data (18%)\n",
        "\n",
        "With any machine learning problem, the first thing that we would want to do\n",
        "is to get an intuitive understanding of what our data looks like. Download the file\n",
        "`raw_sentences.txt` from the course page on Moodle and upload it to Google Drive.\n",
        "Then, mount Google Drive from your Google Colab notebook:"
      ]
    },
    {
      "cell_type": "code",
      "metadata": {
        "id": "9eWXHhCe6X5t",
        "colab": {
          "base_uri": "https://localhost:8080/"
        },
        "outputId": "12d02656-2201-4f8d-806e-dbfeaed9b796"
      },
      "source": [
        "from google.colab import drive\n",
        "drive.mount('/content/gdrive')"
      ],
      "execution_count": null,
      "outputs": [
        {
          "output_type": "stream",
          "name": "stdout",
          "text": [
            "Mounted at /content/gdrive\n"
          ]
        }
      ]
    },
    {
      "cell_type": "markdown",
      "metadata": {
        "id": "Hteg6bwv6X5t"
      },
      "source": [
        "Find the path to `raw_sentences.txt`:"
      ]
    },
    {
      "cell_type": "code",
      "metadata": {
        "id": "ALMsGfFi6X5u"
      },
      "source": [
        "file_path = '/content/gdrive/My Drive/raw_sentences.txt' # TODO - UPDATE ME!"
      ],
      "execution_count": null,
      "outputs": []
    },
    {
      "cell_type": "markdown",
      "metadata": {
        "id": "PD5uXTle6X5u"
      },
      "source": [
        "The following code reads the sentences in our file, split each sentence into\n",
        "its individual words, and stores the sentences (list of words) in the\n",
        "variable `sentences`."
      ]
    },
    {
      "cell_type": "code",
      "metadata": {
        "id": "75NXJO_T6X5v"
      },
      "source": [
        "sentences = []\n",
        "for line in open(file_path):\n",
        "    words = line.split()\n",
        "    sentence = [word.lower() for word in words]\n",
        "    sentences.append(sentence)"
      ],
      "execution_count": null,
      "outputs": []
    },
    {
      "cell_type": "markdown",
      "metadata": {
        "id": "nbP0-e_U6X5v"
      },
      "source": [
        "There are 97,162 sentences in total, and \n",
        "these sentences are composed of 250 distinct words."
      ]
    },
    {
      "cell_type": "code",
      "metadata": {
        "id": "OLUp8rZT6X5v",
        "colab": {
          "base_uri": "https://localhost:8080/"
        },
        "outputId": "d69af5ae-4961-4f49-dfb4-9e51ed3687a5"
      },
      "source": [
        "vocab = set([w for s in sentences for w in s])\n",
        "print(len(sentences)) # 97162\n",
        "print(len(vocab)) # 250"
      ],
      "execution_count": null,
      "outputs": [
        {
          "output_type": "stream",
          "name": "stdout",
          "text": [
            "97162\n",
            "250\n"
          ]
        }
      ]
    },
    {
      "cell_type": "markdown",
      "metadata": {
        "id": "KB77tJrU6X5v"
      },
      "source": [
        "We'll separate our data into training, validation, and test.\n",
        "We'll use `10,000 sentences for test, 10,000 for validation, and\n",
        "the rest for training."
      ]
    },
    {
      "cell_type": "code",
      "metadata": {
        "id": "xJQRB6RJ6X5v"
      },
      "source": [
        "test, valid, train = sentences[:10000], sentences[10000:20000], sentences[20000:]"
      ],
      "execution_count": null,
      "outputs": []
    },
    {
      "cell_type": "markdown",
      "metadata": {
        "id": "aUj7fsi06X5v"
      },
      "source": [
        "### Part (a) -- 3%\n",
        "\n",
        "**Display** 10 sentences in the training set.\n",
        "**Explain** how punctuations are treated in our word representation, and how words\n",
        "with apostrophes are represented."
      ]
    },
    {
      "cell_type": "code",
      "metadata": {
        "id": "90AmLcpF6X5w",
        "colab": {
          "base_uri": "https://localhost:8080/"
        },
        "outputId": "ebc60e99-5ecf-4c22-8596-470b00e5682f"
      },
      "source": [
        "# Your code goes here\n",
        "for s in train[0:10]:\n",
        "  print(s )\n"
      ],
      "execution_count": null,
      "outputs": [
        {
          "output_type": "stream",
          "name": "stdout",
          "text": [
            "['last', 'night', ',', 'he', 'said', ',', 'did', 'it', 'for', 'me', '.']\n",
            "['on', 'what', 'can', 'i', 'do', '?']\n",
            "['now', 'where', 'does', 'it', 'go', '?']\n",
            "['what', 'did', 'the', 'court', 'do', '?']\n",
            "['but', 'at', 'the', 'same', 'time', ',', 'we', 'have', 'a', 'long', 'way', 'to', 'go', '.']\n",
            "['that', 'was', 'the', 'only', 'way', '.']\n",
            "['this', 'team', 'will', 'be', 'back', '.']\n",
            "['so', 'that', 'is', 'what', 'i', 'do', '.']\n",
            "['we', 'have', 'a', 'right', 'to', 'know', '.']\n",
            "['now', 'they', 'are', 'three', '.']\n"
          ]
        }
      ]
    },
    {
      "cell_type": "markdown",
      "metadata": {
        "id": "swyMJHYN-Taa"
      },
      "source": [
        "**Write your answers here:**\n",
        "\n",
        "Punctuations, and also words with apostrophes, are treated as normal words in our representation."
      ]
    },
    {
      "cell_type": "markdown",
      "metadata": {
        "id": "R2erKpOJ6X5w"
      },
      "source": [
        "### Part (b) -- 4%\n",
        "\n",
        "**Print** the 10 most common words in the vocabulary and how often does each of these\n",
        "words appear in the training sentences. Express the second quantity as a percentage\n",
        "(i.e. number of occurences of the  word / total number of words in the training set).\n",
        "\n",
        "These are useful quantities to compute, because one of the first things a machine learning model will learn is to predict the **most common** class. Getting a sense of the\n",
        "distribution of our data will help you understand our model's behaviour.\n",
        "\n",
        "You can use Python's `collections.Counter` class if you would like to."
      ]
    },
    {
      "cell_type": "code",
      "metadata": {
        "id": "pqSZO_a36X5w"
      },
      "source": [
        "# Your code goes here\n",
        "from collections import Counter\n",
        "\n",
        "train_vocab = [w for s in train for w in s]\n",
        "c = Counter(train_vocab)\n"
      ],
      "execution_count": null,
      "outputs": []
    },
    {
      "cell_type": "code",
      "source": [
        "most_common = c.most_common()[0:9]\n",
        "N = len(train_vocab)\n",
        "\n",
        "for w in most_common:\n",
        "  print(f'The word \" {w[0]} \" appears {round(100* w[1]/N,2)}% of the time')"
      ],
      "metadata": {
        "id": "PHdYMDGC2_BM",
        "colab": {
          "base_uri": "https://localhost:8080/"
        },
        "outputId": "fd2de916-7f4b-4cba-cf82-0f7f4b1ffec2"
      },
      "execution_count": null,
      "outputs": [
        {
          "output_type": "stream",
          "name": "stdout",
          "text": [
            "The word \" . \" appears 10.7% of the time\n",
            "The word \" it \" appears 3.85% of the time\n",
            "The word \" , \" appears 3.25% of the time\n",
            "The word \" i \" appears 2.94% of the time\n",
            "The word \" do \" appears 2.69% of the time\n",
            "The word \" to \" appears 2.58% of the time\n",
            "The word \" nt \" appears 2.16% of the time\n",
            "The word \" ? \" appears 2.14% of the time\n",
            "The word \" the \" appears 2.09% of the time\n"
          ]
        }
      ]
    },
    {
      "cell_type": "markdown",
      "metadata": {
        "id": "j4CHlVRI6X5w"
      },
      "source": [
        "### Part (c) -- 11%\n",
        "\n",
        "Our neural network will take as input three words and predict the next one. Therefore, we need our data set to be comprised of seuqnces of four consecutive words in a sentence, referred to as *4grams*. \n",
        "\n",
        "**Complete** the helper functions `convert_words_to_indices` and\n",
        "`generate_4grams`, so that the function `process_data` will take a \n",
        "list of sentences (i.e. list of list of words), and generate an \n",
        "$N \\times 4$ numpy matrix containing indices of 4 words that appear\n",
        "next to each other, where $N$ is the number of 4grams (sequences of 4 words appearing one after the other) that can be found in the complete list of sentences. Examples of how these functions should operate are detailed in the code below. \n",
        "\n",
        "You can use the defined `vocab`, `vocab_itos`,\n",
        "and `vocab_stoi` in your code."
      ]
    },
    {
      "cell_type": "code",
      "metadata": {
        "id": "IUZsxdHk6X5w"
      },
      "source": [
        "# A list of all the words in the data set. We will assign a unique \n",
        "\n",
        "# identifier for each of these words.\n",
        "vocab = sorted(list(set([w for s in train for w in s])))\n",
        "\n",
        "# A mapping of index => word (string)\n",
        "vocab_itos = dict(enumerate(vocab))\n",
        "\n",
        "# A mapping of word => its index\n",
        "vocab_stoi = {word:index for index, word in vocab_itos.items()}\n",
        "\n",
        "def convert_words_to_indices(sents):\n",
        "    \"\"\"\n",
        "    This function takes a list of sentences (list of list of words)\n",
        "    and returns a new list with the same structure, but where each word\n",
        "    is replaced by its index in `vocab_stoi`.\n",
        "\n",
        "    Example:\n",
        "    >>> convert_words_to_indices([['one', 'in', 'five', 'are', 'over', 'here'], ['other', 'one', 'since', 'yesterday'], ['you']])\n",
        "    [[148, 98, 70, 23, 154, 89], [151, 148, 181, 246], [248]]\n",
        "    \"\"\"\n",
        "\n",
        "   # Write your code here\n",
        "    indices = [ [vocab_stoi[w] for w in s]  for s in sents ]\n",
        "    return indices\n",
        "    \n",
        "   \n",
        "\n",
        "def generate_4grams(seqs):\n",
        "    \"\"\"\n",
        "    This function takes a list of sentences (list of lists) and returns\n",
        "    a new list containing the 4-grams (four consequentively occuring words)\n",
        "    that appear in the sentences. Note that a unique 4-gram can appear multiple\n",
        "    times, one per each time that the 4-gram appears in the data parameter `seqs`.\n",
        "\n",
        "    Example:\n",
        "\n",
        "    >>> generate_4grams([[148, 98, 70, 23, 154, 89], [151, 148, 181, 246], [248]])\n",
        "    [[148, 98, 70, 23], [98, 70, 23, 154], [70, 23, 154, 89], [151, 148, 181, 246]]\n",
        "    >>> generate_4grams([[1, 1, 1, 1, 1]])\n",
        "    [[1, 1, 1, 1], [1, 1, 1, 1]]\n",
        "    \"\"\"\n",
        "    lst_4grams = []\n",
        "    for s in seqs:\n",
        "      for i in range(len(s)-3):\n",
        "        lst_4grams.append(s [i:i+4])\n",
        "\n",
        "    return lst_4grams\n",
        "    # Write your code here\n",
        "\n",
        "def process_data(sents):\n",
        "    \"\"\"\n",
        "    This function takes a list of sentences (list of lists), and generates an\n",
        "    numpy matrix with shape [N, 4] containing indices of words in 4-grams.\n",
        "    \"\"\"\n",
        "    indices = convert_words_to_indices(sents)\n",
        "    fourgrams = generate_4grams(indices)\n",
        "    return np.array(fourgrams)\n",
        "\n",
        "# We can now generate our data which will be used to train and test the network\n",
        "train4grams = process_data(train)\n",
        "valid4grams = process_data(valid)\n",
        "test4grams = process_data(test)"
      ],
      "execution_count": null,
      "outputs": []
    },
    {
      "cell_type": "code",
      "source": [
        "convert_words_to_indices([['one','only']])"
      ],
      "metadata": {
        "id": "CFlr0g_Dhoh9",
        "colab": {
          "base_uri": "https://localhost:8080/"
        },
        "outputId": "29fd3a03-d21b-4caa-b728-8260766d5470"
      },
      "execution_count": null,
      "outputs": [
        {
          "output_type": "execute_result",
          "data": {
            "text/plain": [
              "[[148, 149]]"
            ]
          },
          "metadata": {},
          "execution_count": 11
        }
      ]
    },
    {
      "cell_type": "code",
      "source": [
        "print(f'1st sentence' ,generate_4grams([['12','132','149','206','15']]))\n",
        "print(f'2nd sentence' ,generate_4grams([['123','33','45']]))\n",
        "print(f'3rd sentence' ,generate_4grams([['144','134','67','85','11','88']]))\n"
      ],
      "metadata": {
        "id": "j4r2fxOqJZlN",
        "colab": {
          "base_uri": "https://localhost:8080/"
        },
        "outputId": "fe87b89a-fbe4-4f84-bbd2-e897c5e29c6c"
      },
      "execution_count": null,
      "outputs": [
        {
          "output_type": "stream",
          "name": "stdout",
          "text": [
            "1st sentence [['12', '132', '149', '206'], ['132', '149', '206', '15']]\n",
            "2nd sentence []\n",
            "3rd sentence [['144', '134', '67', '85'], ['134', '67', '85', '11'], ['67', '85', '11', '88']]\n"
          ]
        }
      ]
    },
    {
      "cell_type": "markdown",
      "metadata": {
        "id": "3Rv-6sNm6X5x"
      },
      "source": [
        "## Question 2. A Multi-Layer Perceptron (44%)\n",
        "\n",
        "In this section, we will build a two-layer multi-layer perceptron. \n",
        "Our model will look like this:\n",
        "\n",
        "<img src=\"https://drive.google.com/uc?id=15uMLB-YsMHSOr0EQfTRhWd4o9enIOjUe\">\n",
        "\n",
        "Since the sentences in the data are comprised of $250$ distinct words, our task boils down to claissfication where the label space $\\mathcal{S}$ is of cardinality $|\\mathcal{S}|=250$ while our input, which is comprised of a combination of three words, is treated as a vector of size $750\\times 1$ (i.e., the concatanation of three one-hot $250\\times 1$ vectors).\n",
        "\n",
        "The following function `get_batch` will take as input the whole dataset and output a single batch for the training. The output size of the batch is explained below.\n",
        "\n",
        "**Implement** yourself a function `make_onehot` which takes the data in index notation and output it in a onehot notation.\n",
        "\n",
        "Start by reviewing the helper function, which is given to you:"
      ]
    },
    {
      "cell_type": "code",
      "metadata": {
        "id": "ZsqTLOoJ6X5x"
      },
      "source": [
        "def make_onehot(data):\n",
        "    \"\"\"\n",
        "    Convert one batch of data in the index notation into its corresponding onehot\n",
        "    notation. Remember, the function should work for both xt and st. \n",
        "     \n",
        "    input - vector with shape D (1D or 2D)\n",
        "    output - vector with shape (D,250)\n",
        "    \"\"\"\n",
        "\n",
        "\n",
        "    \n",
        "    # return the 1hot representation by selecting the corresponding\n",
        "    # row in the Identity matrix for each data element\n",
        "    return np.eye(250)[data]\n",
        "\n",
        "    # Write your code here\n",
        "\n",
        "def get_batch(data, range_min, range_max, onehot=True):\n",
        "    \"\"\"\n",
        "    Convert one batch of data in the form of 4-grams into input and output\n",
        "    data and return the training data (xt, st) where:\n",
        "     - `xt` is an numpy array of one-hot vectors of shape [batch_size, 3, 250]\n",
        "     - `st` is either\n",
        "            - a numpy array of shape [batch_size, 250] if onehot is True,\n",
        "            - a numpy array of shape [batch_size] containing indicies otherwise\n",
        "\n",
        "    Preconditions:\n",
        "     - `data` is a numpy array of shape [N, 4] produced by a call\n",
        "        to `process_data`\n",
        "     - range_max > range_mind\n",
        "    \"\"\"\n",
        "    xt = data[range_min:range_max, :3]\n",
        "    xt = make_onehot(xt)\n",
        "    st = data[range_min:range_max, 3]\n",
        "    if onehot:\n",
        "        st = make_onehot(st).reshape(-1, 250)\n",
        "    return xt, st\n"
      ],
      "execution_count": null,
      "outputs": []
    },
    {
      "cell_type": "markdown",
      "metadata": {
        "id": "qvLuZpH-6X52"
      },
      "source": [
        "### Part (a) -- 8%\n",
        "\n",
        "We build the model in PyTorch. Since PyTorch uses automatic\n",
        "differentiation, we only need to write the *forward pass* of our\n",
        "model. \n",
        "\n",
        "**Complete** the `forward` function below:"
      ]
    },
    {
      "cell_type": "code",
      "metadata": {
        "id": "iMzWMUB16X52"
      },
      "source": [
        "class PyTorchMLP(nn.Module):\n",
        "    def __init__(self, num_hidden=400):\n",
        "        super(PyTorchMLP, self).__init__()\n",
        "        self.layer1 = nn.Linear(750, num_hidden)\n",
        "        self.layer2 = nn.Linear(num_hidden, 250)\n",
        "        self.num_hidden = num_hidden\n",
        "\n",
        "    def forward(self, inp):\n",
        "        inp = inp.reshape([-1, 750])\n",
        "        hiddenLayer = self.layer1(inp)\n",
        "        return self.layer2(hiddenLayer)\n",
        "        # TODO: complete this function \n",
        "        # Note that we will be using the \n",
        "        #nn.CrossEntropyLoss(), which computes the softmax operation internally,\n",
        "        # as loss criterion"
      ],
      "execution_count": null,
      "outputs": []
    },
    {
      "cell_type": "markdown",
      "metadata": {
        "id": "114NF7If6X52"
      },
      "source": [
        "### Part (b) -- 10%\n",
        "\n",
        "We next  train the PyTorch model using the Adam optimizer and the cross entropy loss.\n",
        "\n",
        "**Complete** the function `run_pytorch_gradient_descent`, and use it to train your PyTorch MLP model.\n",
        "\n",
        "**Obtain** a training accuracy of at least 35% while changing only the hyperparameters of the train function.\n",
        "\n",
        "Plot the learning curve using the `plot_learning_curve` function provided\n",
        "to you, and include your plot in your PDF submission."
      ]
    },
    {
      "cell_type": "code",
      "metadata": {
        "id": "LY70vUCZ6X52"
      },
      "source": [
        "def estimate_accuracy_torch(model, data, batch_size=5000, max_N=100000):\n",
        "    \"\"\"\n",
        "    Estimate the accuracy of the model on the data. To reduce\n",
        "    computation time, use at most `max_N` elements of `data` to\n",
        "    produce the estimate.\n",
        "    \"\"\"\n",
        "    correct = 0\n",
        "    N = 0\n",
        "    for i in range(0, data.shape[0], batch_size):\n",
        "        # get a batch of data\n",
        "        xt, st = get_batch(data, i, i + batch_size, onehot=False)\n",
        "        \n",
        "        # forward pass prediction\n",
        "        y = model(torch.Tensor(xt))\n",
        "        y = y.detach().numpy() # convert the PyTorch tensor => numpy array\n",
        "        pred = np.argmax(y, axis=1)\n",
        "        correct += np.sum(pred == st)\n",
        "        N += st.shape[0]\n",
        "\n",
        "        if N > max_N:\n",
        "            break\n",
        "    return correct / N\n",
        "\n",
        "def run_pytorch_gradient_descent(model,\n",
        "                                 train_data=train4grams,\n",
        "                                 validation_data=valid4grams,\n",
        "                                 batch_size=100,\n",
        "                                 learning_rate=0.001,\n",
        "                                 weight_decay=0,\n",
        "                                 max_iters=1000,\n",
        "                                 checkpoint_path=None):\n",
        "    \"\"\"\n",
        "    Train the PyTorch model on the dataset `train_data`, reporting\n",
        "    the validation accuracy on `validation_data`, for `max_iters`\n",
        "    iteration.\n",
        "\n",
        "    If you want to **checkpoint** your model weights (i.e. save the\n",
        "    model weights to Google Drive), then the parameter\n",
        "    `checkpoint_path` should be a string path with `{}` to be replaced\n",
        "    by the iteration count:\n",
        "\n",
        "    For example, calling \n",
        "\n",
        "    >>> run_pytorch_gradient_descent(model, ...,\n",
        "            checkpoint_path = '/content/gdrive/My Drive/Intro_to_Deep_Learning/mlp/ckpt-{}.pk')\n",
        "\n",
        "    will save the model parameters in Google Drive every 500 iterations.\n",
        "    You will have to make sure that the path exists (i.e. you'll need to create\n",
        "    the folder Intro_to_Deep_Learning, mlp, etc...). Your Google Drive will be populated with files:\n",
        "\n",
        "    - /content/gdrive/My Drive/Intro_to_Deep_Learning/mlp/ckpt-500.pk\n",
        "    - /content/gdrive/My Drive/Intro_to_Deep_Learning/mlp/ckpt-1000.pk\n",
        "    - ...\n",
        "\n",
        "    To load the weights at a later time, you can run:\n",
        "\n",
        "    >>> model.load_state_dict(torch.load('/content/gdrive/My Drive/Intro_to_Deep_Learning/mlp/ckpt-500.pk'))\n",
        "\n",
        "    This function returns the training loss, and the training/validation accuracy,\n",
        "    which we can use to plot the learning curve.\n",
        "    \"\"\"\n",
        "    criterion = nn.CrossEntropyLoss()\n",
        "    optimizer = optim.Adam(model.parameters(),\n",
        "                           lr=learning_rate,\n",
        "                           weight_decay=weight_decay)\n",
        "\n",
        "    iters, losses = [], []\n",
        "    iters_sub, train_accs, val_accs  = [], [] ,[]\n",
        "\n",
        "    n = 0 # the number of iterations\n",
        "    while True:\n",
        "        for i in range(0, train_data.shape[0], batch_size):\n",
        "            if (i + batch_size) > train_data.shape[0]:\n",
        "                break\n",
        "\n",
        "            # get the input and targets of a minibatch\n",
        "            xt, st = get_batch(train_data, i, i + batch_size, onehot=False)\n",
        "\n",
        "            # convert from numpy arrays to PyTorch tensors\n",
        "            xt = torch.Tensor(xt)\n",
        "            st = torch.Tensor(st).long()\n",
        "\n",
        "            zs = model.forward(xt)                      # compute prediction logit\n",
        "            loss = criterion(zs, st)                    # compute the total loss\n",
        "\n",
        "            # save the current training information\n",
        "            iters.append(n)\n",
        "            losses.append(float(loss)/batch_size)  # compute *average* loss\n",
        "\n",
        "            loss.backward()                             # compute updates for each parameter\n",
        "            optimizer.step()                            # make the updates for each parameter\n",
        "            optimizer.zero_grad()                       # a clean up step for PyTorch\n",
        "\n",
        "            if n % 500 == 0:\n",
        "                iters_sub.append(n)\n",
        "                train_cost = float(loss.detach().numpy())\n",
        "                train_acc = estimate_accuracy_torch(model, train_data)\n",
        "                train_accs.append(train_acc)\n",
        "                val_acc = estimate_accuracy_torch(model, validation_data)\n",
        "                val_accs.append(val_acc)\n",
        "                print(\"Iter %d. [Val Acc %.0f%%] [Train Acc %.0f%%, Loss %f]\" % (\n",
        "                      n, val_acc * 100, train_acc * 100, train_cost))\n",
        "\n",
        "                if (checkpoint_path is not None) and n > 0:\n",
        "                    torch.save(model.state_dict(), checkpoint_path.format(n))\n",
        "\n",
        "            # increment the iteration number\n",
        "            n += 1\n",
        "\n",
        "            if n > max_iters:\n",
        "                return iters, losses, iters_sub, train_accs, val_accs\n",
        "\n",
        "\n",
        "def plot_learning_curve(iters, losses, iters_sub, train_accs, val_accs):\n",
        "    \"\"\"\n",
        "    Plot the learning curve.\n",
        "    \"\"\"\n",
        "    plt.title(\"Learning Curve: Loss per Iteration\")\n",
        "    plt.plot(iters, losses, label=\"Train\")\n",
        "    plt.xlabel(\"Iterations\")\n",
        "    plt.ylabel(\"Loss\")\n",
        "    plt.show()\n",
        "\n",
        "    plt.title(\"Learning Curve: Accuracy per Iteration\")\n",
        "    plt.plot(iters_sub, train_accs, label=\"Train\")\n",
        "    plt.plot(iters_sub, val_accs, label=\"Validation\")\n",
        "    plt.xlabel(\"Iterations\")\n",
        "    plt.ylabel(\"Accuracy\")\n",
        "    plt.legend(loc='best')\n",
        "    plt.show()"
      ],
      "execution_count": null,
      "outputs": []
    },
    {
      "cell_type": "code",
      "metadata": {
        "id": "DXBq-1F86X52",
        "colab": {
          "base_uri": "https://localhost:8080/",
          "height": 124
        },
        "outputId": "59c31178-fae6-468f-ee33-b8e5cd76abb1"
      },
      "source": [
        "# This loop is going through a large range of Hyperparameters\n",
        "# and plots any considerable learning curve ending with more than 35% acc\n",
        "# announcing the hyperparameters used to reach that\n",
        "# This way we chose the best hyperparameters considering the learning curves and the final results.\n",
        "\"\"\"\n",
        "for batch_size in range(100,2000,300):\n",
        "  for L_rate_expo in range(-8, -14, -1):\n",
        "    pytorch_mlp = PyTorchMLP()\n",
        "    learning_rate = 2**(L_rate_expo)\n",
        "    \n",
        "    print('Hyperparameters for this try:')\n",
        "    print(f'Batch size = {batch_size}')\n",
        "    print(f'Learning rate = {learning_rate}')\n",
        "    learning_curve_info = run_pytorch_gradient_descent(pytorch_mlp, train4grams, valid4grams,\n",
        "                                                      batch_size, learning_rate, weight_decay=0, max_iters = 1500,\n",
        "                                                      checkpoint_path=None)\n",
        "    if learning_curve_info[3][np.size(learning_curve_info[3])-1] > 0.35:\n",
        "      plot_learning_curve(*learning_curve_info)\n",
        "      print('Hyperparameters that made it to 35% acc (train set):')\n",
        "      print(f'Batch size = {batch_size}')\n",
        "      print(f'Learning rate = {learning_rate}')\n",
        "\"\"\""
      ],
      "execution_count": null,
      "outputs": [
        {
          "output_type": "execute_result",
          "data": {
            "text/plain": [
              "\"\\nfor batch_size in range(100,2000,300):\\n  for L_rate_expo in range(-8, -14, -1):\\n    pytorch_mlp = PyTorchMLP()\\n    learning_rate = 2**(L_rate_expo)\\n    \\n    print('Hyperparameters for this try:')\\n    print(f'Batch size = {batch_size}')\\n    print(f'Learning rate = {learning_rate}')\\n    learning_curve_info = run_pytorch_gradient_descent(pytorch_mlp, train4grams, valid4grams,\\n                                                      batch_size, learning_rate, weight_decay=0, max_iters = 1500,\\n                                                      checkpoint_path=None)\\n    if learning_curve_info[3][np.size(learning_curve_info[3])-1] > 0.35:\\n      plot_learning_curve(*learning_curve_info)\\n      print('Hyperparameters that made it to 35% acc (train set):')\\n      print(f'Batch size = {batch_size}')\\n      print(f'Learning rate = {learning_rate}')\\n\""
            ],
            "application/vnd.google.colaboratory.intrinsic+json": {
              "type": "string"
            }
          },
          "metadata": {},
          "execution_count": 16
        }
      ]
    },
    {
      "cell_type": "markdown",
      "source": [
        "Considering the learning curves of using batch size of 1300, with learning rate of 0.002, we chose these hyperparameters for our model.\n"
      ],
      "metadata": {
        "id": "rN7jjLlmEV13"
      }
    },
    {
      "cell_type": "code",
      "source": [
        "pytorch_mlp = PyTorchMLP()\n",
        "batch_size = 1300\n",
        "learning_rate = 0.002\n",
        "learning_curve_info = run_pytorch_gradient_descent(pytorch_mlp, train4grams, valid4grams,\n",
        "                                                      batch_size = 1300, learning_rate = 0.002, weight_decay=0, max_iters = 1500,\n",
        "                                                      checkpoint_path=None)\n",
        "\n",
        "plot_learning_curve(*learning_curve_info)\n",
        "print('Hyperparameters that made it to more than 35% acc (train set):')\n",
        "print(f'Batch size = {batch_size}')\n",
        "print(f'Learning rate = {learning_rate}')"
      ],
      "metadata": {
        "id": "xl8s4hZmC-CV",
        "colab": {
          "base_uri": "https://localhost:8080/",
          "height": 697
        },
        "outputId": "de89a8b5-8e63-4750-ef7e-725b0a43a4db"
      },
      "execution_count": null,
      "outputs": [
        {
          "output_type": "stream",
          "name": "stdout",
          "text": [
            "Iter 0. [Val Acc 3%] [Train Acc 3%, Loss 5.523611]\n",
            "Iter 500. [Val Acc 34%] [Train Acc 35%, Loss 2.733508]\n",
            "Iter 1000. [Val Acc 34%] [Train Acc 36%, Loss 2.619207]\n",
            "Iter 1500. [Val Acc 34%] [Train Acc 37%, Loss 2.581804]\n"
          ]
        },
        {
          "output_type": "display_data",
          "data": {
            "text/plain": [
              "<Figure size 432x288 with 1 Axes>"
            ],
            "image/png": "[encoded data removed]"
          },
          "metadata": {
            "needs_background": "light"
          }
        },
        {
          "output_type": "display_data",
          "data": {
            "text/plain": [
              "<Figure size 432x288 with 1 Axes>"
            ],
            "image/png": "[encoded data removed]"
          },
          "metadata": {
            "needs_background": "light"
          }
        },
        {
          "output_type": "stream",
          "name": "stdout",
          "text": [
            "Hyperparameters that made it to more than 35% acc (train set):\n",
            "Batch size = 1300\n",
            "Learning rate = 0.002\n"
          ]
        }
      ]
    },
    {
      "cell_type": "markdown",
      "metadata": {
        "id": "xcXqpx0v6X52"
      },
      "source": [
        "### Part (c) -- 10%\n",
        "**Write** a function `make_prediction` that takes as parameters\n",
        "a PyTorchMLP model and sentence (a list of words), and produces\n",
        "a prediction for the next word in the sentence.\n",
        " "
      ]
    },
    {
      "cell_type": "code",
      "metadata": {
        "id": "O2jOK7B26X52"
      },
      "source": [
        "def make_prediction_torch(model, sentence):\n",
        "    \"\"\"\n",
        "    Use the model to make a prediction for the next word in the\n",
        "    sentence using the last 3 words (sentence[:-3]). You may assume\n",
        "    that len(sentence) >= 3 and that `model` is an instance of\n",
        "    PYTorchMLP.\n",
        "\n",
        "    This function should return the next word, represented as a string.\n",
        "\n",
        "    Example call:\n",
        "    >>> make_prediction_torch(pytorch_mlp, ['you', 'are', 'a'])\n",
        "    \"\"\"\n",
        "    global vocab_stoi, vocab_itos\n",
        "  \n",
        "    #  Write your code here\n",
        "    indices = convert_words_to_indices([sentence])\n",
        "    oneHot = make_onehot(indices[0])\n",
        "    oneHot = torch.Tensor(oneHot)\n",
        "    predicted_tens = model.forward(oneHot)\n",
        "\n",
        "    y = predicted_tens.detach().numpy() # convert the PyTorch tensor => numpy array\n",
        "    pred = np.argmax(y, axis=1)\n",
        "    predicted_indice = pred[0]\n",
        "    predicted_word = vocab_itos[predicted_indice]\n",
        "    return predicted_word\n"
      ],
      "execution_count": null,
      "outputs": []
    },
    {
      "cell_type": "markdown",
      "metadata": {
        "id": "mHvIKjYg6X53"
      },
      "source": [
        "### Part (d) -- 10%\n",
        "\n",
        "Use your code to predict what the next word should be in each\n",
        "of the following sentences:\n",
        "\n",
        "- \"You are a\"\n",
        "- \"few companies show\"\n",
        "- \"There are no\"\n",
        "- \"yesterday i was\"\n",
        "- \"the game had\"\n",
        "- \"yesterday the federal\"\n",
        "\n",
        "Do your predictions make sense?\n",
        "\n",
        "In many cases where you overfit the model can either output the same results for all inputs or just memorize the dataset. \n",
        "\n",
        "**Print** the output for all of these sentences and \n",
        "**Write** below if you encounter these effects or something else which indicates overfitting, if you do train again with better hyperparameters.\n",
        "\n",
        "\n"
      ]
    },
    {
      "cell_type": "code",
      "metadata": {
        "id": "kdzhshY56X53",
        "colab": {
          "base_uri": "https://localhost:8080/"
        },
        "outputId": "d4ba8107-4597-43a0-9ead-d81b101416f9"
      },
      "source": [
        "# Write your code here\n",
        "lines = []\n",
        "lines.append(\"You are a\")\n",
        "lines.append(\"few companies show\")\n",
        "lines.append(\"There are no\")\n",
        "lines.append(\"yesterday i was\")\n",
        "lines.append(\"the game had\")\n",
        "lines.append(\"yesterday the federal\")\n",
        "\n",
        "sentences = []\n",
        "for line in lines:\n",
        "    words = line.split()\n",
        "    sentence = [word.lower() for word in words]\n",
        "    sentences.append(sentence)\n",
        "    print(sentence)\n",
        "for i in range(0,np.shape(sentences)[0],1):\n",
        "  pred = make_prediction_torch(pytorch_mlp, sentences[i])\n",
        "  sentences[i].append(pred) # add the word to the sentence\n",
        "print(f'\\n')  \n",
        "for i in range(0,np.shape(sentences)[0],1):\n",
        "  print(sentences[i]) #print the whole sentence (last word is the output)\n",
        "\n"
      ],
      "execution_count": null,
      "outputs": [
        {
          "output_type": "stream",
          "name": "stdout",
          "text": [
            "['you', 'are', 'a']\n",
            "['few', 'companies', 'show']\n",
            "['there', 'are', 'no']\n",
            "['yesterday', 'i', 'was']\n",
            "['the', 'game', 'had']\n",
            "['yesterday', 'the', 'federal']\n",
            "\n",
            "\n",
            "['you', 'are', 'a', 'good']\n",
            "['few', 'companies', 'show', '.']\n",
            "['there', 'are', 'no', 'other']\n",
            "['yesterday', 'i', 'was', 'nt']\n",
            "['the', 'game', 'had', 'to']\n",
            "['yesterday', 'the', 'federal', 'government']\n"
          ]
        }
      ]
    },
    {
      "cell_type": "markdown",
      "metadata": {
        "id": "mTfh4MwjAlGB"
      },
      "source": [
        "**Write your answers here:**\n",
        "\n",
        "Most of the prediction actually do make sense.\n",
        "none of the overfitting effect as described is seen, not in this small dataset nor the learning curve.\n",
        "We conclude that the model is good enough."
      ]
    },
    {
      "cell_type": "markdown",
      "metadata": {
        "id": "F4QBM0fo6X53"
      },
      "source": [
        "### Part (e) -- 6%\n",
        "\n",
        "Report the test accuracy of your model"
      ]
    },
    {
      "cell_type": "code",
      "metadata": {
        "id": "Sq31oqDR6X53",
        "colab": {
          "base_uri": "https://localhost:8080/"
        },
        "outputId": "54591e77-70ca-454c-f26a-f04e1f89a2aa"
      },
      "source": [
        "# Write your code here\n",
        "\n",
        "accuracy_test = estimate_accuracy_torch(pytorch_mlp,test4grams)\n",
        "print(f'Accuracy of the model using the test dataset is {round(accuracy_test*100,2)}%')\n",
        "#make_prediction_torch(pytorch_mlp, test4grams)\n"
      ],
      "execution_count": null,
      "outputs": [
        {
          "output_type": "stream",
          "name": "stdout",
          "text": [
            "Accuracy of the model using the test dataset is 34.51%\n"
          ]
        }
      ]
    },
    {
      "cell_type": "markdown",
      "metadata": {
        "id": "Xlr7C8yg6X53"
      },
      "source": [
        "## Question 3. Learning Word Embeddings (24 %)\n",
        "\n",
        "In this section, we will build a slightly different model with a different\n",
        "architecture. In particular, we will first compute a lower-dimensional\n",
        "*representation* of the three words, before using a multi-layer perceptron.\n",
        "\n",
        "Our model will look like this:\n",
        "\n",
        "<img src=\"https://drive.google.com/uc?id=16lXygLTSuRgOCj6UWK0vHkSoyRJWfMSZ\" />\n",
        " \n",
        "\n",
        "This model has 3 layers instead of 2, but the first layer of the network\n",
        "is **not** fully-connected. Instead, we compute the representations of each\n",
        "of the three words **separately**. In addition, the first layer of the network\n",
        "will not use any biases. The reason for this will be clear in question 4.\n",
        " "
      ]
    },
    {
      "cell_type": "markdown",
      "metadata": {
        "id": "i0td55ll6X54"
      },
      "source": [
        "### Part (a) -- 10%\n",
        "\n",
        "The PyTorch model is implemented for you. Use \n",
        "`run_pytorch_gradient_descent` to train\n",
        "your PyTorch MLP model to obtain a training accuracy of at least 38%.\n",
        "Plot the learning curve using the `plot_learning_curve` function provided\n",
        "to you, and include your plot in your PDF submission.\n"
      ]
    },
    {
      "cell_type": "code",
      "metadata": {
        "id": "HqWlfclh6X54"
      },
      "source": [
        "class PyTorchWordEmb(nn.Module):\n",
        "    def __init__(self, emb_size=100, num_hidden=300, vocab_size=250):\n",
        "        super(PyTorchWordEmb, self).__init__()\n",
        "        self.word_emb_layer = nn.Linear(vocab_size, emb_size, bias=False)\n",
        "        self.fc_layer1 = nn.Linear(emb_size * 3, num_hidden)\n",
        "        self.fc_layer2 = nn.Linear(num_hidden, 250)\n",
        "        self.num_hidden = num_hidden\n",
        "        self.emb_size = emb_size\n",
        "    def forward(self, inp):\n",
        "        embeddings = torch.relu(self.word_emb_layer(inp))\n",
        "        embeddings = embeddings.reshape([-1, self.emb_size * 3])\n",
        "        hidden = torch.relu(self.fc_layer1(embeddings))\n",
        "        return self.fc_layer2(hidden)\n"
      ],
      "execution_count": null,
      "outputs": []
    },
    {
      "cell_type": "code",
      "source": [
        "pytorch_wordemb= PyTorchWordEmb()\n",
        "\n",
        "batch_size = 1500\n",
        "learning_rate = 0.0005\n",
        "learning_curve_info_2 = run_pytorch_gradient_descent(pytorch_wordemb, train4grams, valid4grams,\n",
        "                                                      batch_size = 1300, learning_rate = 0.002, weight_decay=0, max_iters = 2000,\n",
        "                                                      checkpoint_path=None)\n",
        "\n",
        "plot_learning_curve(*learning_curve_info_2)\n",
        "print('Hyperparameters that made it to more than 38% acc (train set):')\n",
        "print(f'Batch size = {batch_size}')\n",
        "print(f'Learning rate = {learning_rate}')"
      ],
      "metadata": {
        "colab": {
          "base_uri": "https://localhost:8080/",
          "height": 715
        },
        "id": "yNoREX6xzijA",
        "outputId": "6e454e01-f751-4ace-8e36-5eef416623df"
      },
      "execution_count": null,
      "outputs": [
        {
          "output_type": "stream",
          "name": "stdout",
          "text": [
            "Iter 0. [Val Acc 5%] [Train Acc 5%, Loss 5.514981]\n",
            "Iter 500. [Val Acc 33%] [Train Acc 34%, Loss 2.895968]\n",
            "Iter 1000. [Val Acc 35%] [Train Acc 36%, Loss 2.671944]\n",
            "Iter 1500. [Val Acc 36%] [Train Acc 38%, Loss 2.565680]\n",
            "Iter 2000. [Val Acc 37%] [Train Acc 38%, Loss 2.527689]\n"
          ]
        },
        {
          "output_type": "display_data",
          "data": {
            "text/plain": [
              "<Figure size 432x288 with 1 Axes>"
            ],
            "image/png": "[encoded data removed]"
          },
          "metadata": {
            "needs_background": "light"
          }
        },
        {
          "output_type": "display_data",
          "data": {
            "text/plain": [
              "<Figure size 432x288 with 1 Axes>"
            ],
            "image/png": "[encoded data removed]"
          },
          "metadata": {
            "needs_background": "light"
          }
        },
        {
          "output_type": "stream",
          "name": "stdout",
          "text": [
            "Hyperparameters that made it to more than 38% acc (train set):\n",
            "Batch size = 1500\n",
            "Learning rate = 0.0005\n"
          ]
        }
      ]
    },
    {
      "cell_type": "markdown",
      "metadata": {
        "id": "oekGJRad6X54"
      },
      "source": [
        "### Part (b) -- 10%\n",
        "\n",
        "Use the function `make_prediction` that you wrote earlier to predict what the next word should be in each of the following sentences:\n",
        "\n",
        "- \"You are a\"\n",
        "- \"few companies show\"\n",
        "- \"There are no\"\n",
        "- \"yesterday i was\"\n",
        "- \"the game had\"\n",
        "- \"yesterday the federal\"\n",
        "\n",
        "How do these predictions compared to the previous model?\n",
        "\n",
        "**Print** the output for all of these sentences using the new network and \n",
        "**Write** below how the new results compare to the previous ones.\n",
        "\n",
        "Just like before, if you encounter overfitting,\n",
        "train your model for more iterations, or change the hyperparameters in your\n",
        "model. You may need to do this even if your training accuracy is >=38%."
      ]
    },
    {
      "cell_type": "code",
      "metadata": {
        "id": "I1W2Vl3g6X54",
        "colab": {
          "base_uri": "https://localhost:8080/"
        },
        "outputId": "c224efa7-246c-4ea6-8f70-de343d720e31"
      },
      "source": [
        "# Your code goes here\n",
        "\n",
        "#using the \"lines\" argument from q2-d\n",
        "\n",
        "sentences = []\n",
        "for line in lines:\n",
        "    words = line.split()\n",
        "    sentence = [word.lower() for word in words]\n",
        "    sentences.append(sentence)\n",
        "    print(sentence)\n",
        "for i in range(0,np.shape(sentences)[0],1):\n",
        "  pred = make_prediction_torch(pytorch_wordemb, sentences[i])\n",
        "  sentences[i].append(pred) # add the word to the sentence\n",
        "print(f'\\n')  \n",
        "for i in range(0,np.shape(sentences)[0],1):\n",
        "  print(sentences[i]) #print the whole sentence (last word is the output)\n",
        "\n",
        "\n",
        "  "
      ],
      "execution_count": null,
      "outputs": [
        {
          "output_type": "stream",
          "name": "stdout",
          "text": [
            "['you', 'are', 'a']\n",
            "['few', 'companies', 'show']\n",
            "['there', 'are', 'no']\n",
            "['yesterday', 'i', 'was']\n",
            "['the', 'game', 'had']\n",
            "['yesterday', 'the', 'federal']\n",
            "\n",
            "\n",
            "['you', 'are', 'a', 'good']\n",
            "['few', 'companies', 'show', 'up']\n",
            "['there', 'are', 'no', 'other']\n",
            "['yesterday', 'i', 'was', 'going']\n",
            "['the', 'game', 'had', 'to']\n",
            "['yesterday', 'the', 'federal', 'government']\n"
          ]
        }
      ]
    },
    {
      "cell_type": "markdown",
      "metadata": {
        "id": "uZQeQXPfGQNB"
      },
      "source": [
        "**Write your explanation here:**\n",
        "\n",
        "we see that now we have better completion, after the word \"show\" we get an actual word and not \".\" although \".\" is the most common variable in our data.\n",
        "  also we get the word \"going\" ater the \"yesterday i was\", what is a better sense completion than \"nt\"."
      ]
    },
    {
      "cell_type": "markdown",
      "metadata": {
        "id": "g36bTOV46X54"
      },
      "source": [
        "### Part (c) -- 4%\n",
        "\n",
        "Report the test accuracy of your model"
      ]
    },
    {
      "cell_type": "code",
      "metadata": {
        "id": "qy8W6XrZ6X54",
        "colab": {
          "base_uri": "https://localhost:8080/"
        },
        "outputId": "950aca15-b987-47ea-949f-8318ee62b801"
      },
      "source": [
        "# Write your code here\n",
        "\n",
        "accuracy_test_2 = estimate_accuracy_torch(pytorch_wordemb,test4grams)\n",
        "print(f'Accuracy of the model using the test dataset is {round(accuracy_test_2*100,2)}%')\n",
        "#make_prediction_torch(pytorch_wordemb, test4grams)\n"
      ],
      "execution_count": null,
      "outputs": [
        {
          "output_type": "stream",
          "name": "stdout",
          "text": [
            "Accuracy of the model using the test dataset is 37.25%\n"
          ]
        }
      ]
    },
    {
      "cell_type": "markdown",
      "metadata": {
        "id": "J1fyrlDz6X55"
      },
      "source": [
        "## Question 4. Visualizing Word Embeddings (14%)\n",
        "\n",
        "While training the `PyTorchMLP`, we trained the `word_emb_layer`, which takes a one-hot\n",
        "representation of a word in our vocabulary, and returns a low-dimensional vector\n",
        "representation of that word. In this question, we will explore these word embeddings, which are a key concept in natural language processing.\n",
        "\n",
        "\n",
        "\n",
        "\n",
        "Explain why each *row* of `word_emb` contains the vector representing\n",
        "of a word. For example `word_emb[vocab_stoi[\"any\"],:]` contains the\n",
        "vector representation of the word \"any\"."
      ]
    },
    {
      "cell_type": "markdown",
      "source": [
        "\n",
        "### Part (a) -- 4%\n",
        "\n",
        "The code below extracts the **weights** of the word embedding layer,\n",
        "and converts the PyTorch tensor into an numpy array."
      ],
      "metadata": {
        "id": "LQaqQlQV8foK"
      }
    },
    {
      "cell_type": "code",
      "metadata": {
        "id": "7IvS6JDM6X55"
      },
      "source": [
        "word_emb_weights = list(pytorch_wordemb.word_emb_layer.parameters())[0]\n",
        "word_emb = word_emb_weights.detach().numpy().T\n"
      ],
      "execution_count": null,
      "outputs": []
    },
    {
      "cell_type": "markdown",
      "metadata": {
        "id": "SF_kTjxrkonT"
      },
      "source": [
        "**Write your explanation here:**\n",
        "\n",
        "word_emb_layer, which takes a one-hot representation of a word in our vocabulary, and returns a low-dimensional vector representation of that word. it means that it get an input of vector of 249 zeros and 1 \"one\" that represent the index of the word. because each word represented with zeros exept the i'th index we can low the dimension of the vector without lossing data."
      ]
    },
    {
      "cell_type": "markdown",
      "metadata": {
        "id": "Hl-JenYz6X55"
      },
      "source": [
        "### Part (b) -- 5%\n",
        "\n",
        "One interesting thing about these word embeddings is that distances\n",
        "in these vector representations of words make some sense! To show this,\n",
        "we have provided code below that computes the *cosine similarity* of\n",
        "every pair of words in our vocabulary. This measure of similarity between vector ${\\bf v}$ and ${\\bf w}$ is defined as \n",
        "   $$d_{\\rm cos}({\\bf v},{\\bf w}) = \\frac{{\\bf v}^T{\\bf w}}{||{\\bf v}|| ||{\\bf w}||}.$$  We also pre-scale the vectors to have a unit norm, using Numpy's `norm` method."
      ]
    },
    {
      "cell_type": "code",
      "metadata": {
        "id": "MPiv3pFX6X55",
        "colab": {
          "base_uri": "https://localhost:8080/"
        },
        "outputId": "411cbabb-b356-4803-80a3-5b01d8622ad6"
      },
      "source": [
        "norms = np.linalg.norm(word_emb, axis=1)\n",
        "word_emb_norm = (word_emb.T / norms).T\n",
        "similarities = np.matmul(word_emb_norm, word_emb_norm.T)\n",
        "\n",
        "# Some example distances. The first one should be larger than the second\n",
        "print(similarities[vocab_stoi['any'], vocab_stoi['many']])\n",
        "print(similarities[vocab_stoi['any'], vocab_stoi['government']])"
      ],
      "execution_count": null,
      "outputs": [
        {
          "output_type": "stream",
          "name": "stdout",
          "text": [
            "0.0636967\n",
            "-0.029274637\n"
          ]
        }
      ]
    },
    {
      "cell_type": "markdown",
      "metadata": {
        "id": "1ctM-Mgr6X55"
      },
      "source": [
        "Compute the 5 closest words to the following words:\n",
        "\n",
        "- \"four\"\n",
        "- \"go\"\n",
        "- \"what\"\n",
        "- \"should\"\n",
        "- \"school\"\n",
        "- \"your\"\n",
        "- \"yesterday\"\n",
        "- \"not\""
      ]
    },
    {
      "cell_type": "code",
      "metadata": {
        "id": "66NCoAE26X55",
        "colab": {
          "base_uri": "https://localhost:8080/"
        },
        "outputId": "cdfbf0e8-b815-4c97-c484-4efffe4e7b97"
      },
      "source": [
        "# Write your code here\n",
        "\n",
        "def five_closest(word):\n",
        "  similarity_list={}\n",
        "  for i in vocab_stoi:\n",
        "    similarity_list[i]=similarities[vocab_stoi[word], vocab_stoi[i]]\n",
        "  similarity_list = dict(sorted(similarity_list.items(), key=lambda item: item[1]))\n",
        "  return dict(list(similarity_list.items())[-6:-1])\n",
        "  \n",
        "print(\"four:\")\n",
        "print(five_closest(\"four\"))\n",
        "print(\"go:\")\n",
        "print(five_closest(\"go\"))\n",
        "print(\"what:\")\n",
        "print(five_closest(\"what\"))\n",
        "print(\"should:\")\n",
        "print(five_closest(\"should\"))\n",
        "print(\"school:\")\n",
        "print(five_closest(\"school\"))\n",
        "print(\"your:\")\n",
        "print(five_closest(\"your\"))\n",
        "print(\"yesterday:\")\n",
        "print(five_closest(\"yesterday\"))\n",
        "print(\"not:\")\n",
        "print(five_closest(\"not\"))\n"
      ],
      "execution_count": null,
      "outputs": [
        {
          "output_type": "stream",
          "name": "stdout",
          "text": [
            "four:\n",
            "{'years': 0.3607498, 'some': 0.36348492, 'ago': 0.36358806, 'three': 0.41553098, 'many': 0.45719582}\n",
            "go:\n",
            "{'law': 0.38296777, 'new': 0.39452976, 'get': 0.40973827, 'going': 0.44577926, 'come': 0.49584293}\n",
            "what:\n",
            "{'which': 0.26556042, 'when': 0.32579932, 'where': 0.3491701, 'how': 0.36274096, 'who': 0.3695009}\n",
            "should:\n",
            "{'house': 0.34872577, 'may': 0.37461686, 'would': 0.4519977, 'might': 0.5095458, 'could': 0.62198937}\n",
            "school:\n",
            "{'white': 0.37193656, 'business': 0.37421435, 'good': 0.37800252, 'me': 0.4351621, 'last': 0.469771}\n",
            "your:\n",
            "{'the': 0.33883452, 'these': 0.38261515, 'political': 0.3838867, 'our': 0.47281218, 'its': 0.4887538}\n",
            "yesterday:\n",
            "{'day': 0.3598838, 'us': 0.37146613, 'week': 0.39852333, 'under': 0.41718796, 'ago': 0.44320312}\n",
            "not:\n",
            "{'director': 0.31440178, 'general': 0.3680016, 'never': 0.37976164, 'among': 0.38233173, 'nt': 0.42775065}\n"
          ]
        }
      ]
    },
    {
      "cell_type": "markdown",
      "metadata": {
        "id": "JJAOG_pg6X55"
      },
      "source": [
        "### Part (c) -- 5%\n",
        "\n",
        "We can visualize the word embeddings by reducing the dimensionality of\n",
        "the word vectors to 2D. There are many dimensionality reduction techniques\n",
        "that we could use, and we will use an algorithm called t-SNE.\n",
        "(You don’t need to know what this is for the assignment; we will cover it later in the course.)\n",
        "Nearby points in this 2-D space are meant to correspond to nearby points\n",
        "in the original, high-dimensional space.\n",
        "\n",
        "The following code runs the t-SNE algorithm and plots the result.\n",
        "\n",
        "Look at the plot and find at least two clusters of related words.\n",
        "\n",
        "**Write** below for each cluster what is the commonality (if there is any) and if they make sense.\n",
        "\n",
        "Note that there is randomness in the initialization of the t-SNE \n",
        "algorithm. If you re-run this code, you may get a different image.\n",
        "Please make sure to submit your image in the PDF file."
      ]
    },
    {
      "cell_type": "code",
      "metadata": {
        "id": "seD1PgwK6X56",
        "colab": {
          "base_uri": "https://localhost:8080/",
          "height": 691
        },
        "outputId": "72d7bbeb-ef15-4a0a-bc57-2bcbea5b35e2"
      },
      "source": [
        "import sklearn.manifold\n",
        "tsne = sklearn.manifold.TSNE()\n",
        "Y = tsne.fit_transform(word_emb)\n",
        "\n",
        "plt.figure(figsize=(10, 10))\n",
        "plt.xlim(Y[:,0].min(), Y[:, 0].max())\n",
        "plt.ylim(Y[:,1].min(), Y[:, 1].max())\n",
        "for i, w in enumerate(vocab):\n",
        "    plt.text(Y[i, 0], Y[i, 1], w)\n",
        "plt.show()"
      ],
      "execution_count": null,
      "outputs": [
        {
          "output_type": "stream",
          "name": "stderr",
          "text": [
            "/usr/local/lib/python3.8/dist-packages/sklearn/manifold/_t_sne.py:780: FutureWarning: The default initialization in TSNE will change from 'random' to 'pca' in 1.2.\n",
            "  warnings.warn(\n",
            "/usr/local/lib/python3.8/dist-packages/sklearn/manifold/_t_sne.py:790: FutureWarning: The default learning rate in TSNE will change from 200.0 to 'auto' in 1.2.\n",
            "  warnings.warn(\n"
          ]
        },
        {
          "output_type": "display_data",
          "data": {
            "text/plain": [
              "<Figure size 720x720 with 1 Axes>"
            ],
            "image/png": "[encoded data removed]"
          },
          "metadata": {
            "needs_background": "light"
          }
        }
      ]
    },
    {
      "cell_type": "markdown",
      "metadata": {
        "id": "rb4gbqMam8S5"
      },
      "source": [
        "\n",
        "\n",
        "**Explain and discuss your results here:**\n",
        "\n",
        "\n",
        "\n",
        "\n",
        "cluster 1 (75:100,45:70) : (two,three,five,several,million) - A number or a way to describe quantity of something.\n",
        "\n",
        "cluster 2 (:-100,-25:0) : (have, has , had) - three words with the same meaning."
      ]
    }
  ]
}